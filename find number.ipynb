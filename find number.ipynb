{
  "nbformat": 4,
  "nbformat_minor": 0,
  "metadata": {
    "colab": {
      "provenance": []
    },
    "kernelspec": {
      "name": "python3",
      "display_name": "Python 3"
    },
    "language_info": {
      "name": "python"
    }
  },
  "cells": [
    {
      "cell_type": "code",
      "source": [],
      "metadata": {
        "id": "JSq4QLk2lWyd"
      },
      "execution_count": null,
      "outputs": []
    },
    {
      "cell_type": "code",
      "execution_count": 3,
      "metadata": {
        "colab": {
          "base_uri": "https://localhost:8080/"
        },
        "id": "24gacoFXjqTy",
        "outputId": "08a5ce17-85bd-4e54-a826-7a5edf77d6b5"
      },
      "outputs": [
        {
          "output_type": "stream",
          "name": "stdout",
          "text": [
            "result is :  18\n"
          ]
        }
      ],
      "source": [
        "##             Example :  [7 ,2 ,5 ,10 ,8  ] | m = 2 \n",
        "##                        [7] [2 ,5 ,10 ,8 ] = [7 , 25]\n",
        "##                        [7 ,2] [5 ,10 ,8 ] = [9 , 23]\n",
        "##                        [7 ,2 ,5] [10 ,8 ] = [14 , 18]\n",
        "##                        [7 ,2 ,5 ,10] [8 ] = [24 , 8] \n",
        "\n",
        "def splitArray (nums,m):\n",
        "  lo = max(nums) #collect largest sum that is not exceed mid and find range\n",
        "  hi = sum(nums) #subarray require\n",
        "\n",
        "  while lo < hi:\n",
        "\n",
        "    mid = (lo+hi)//2\n",
        "    total = 0\n",
        "    count = 1\n",
        "\n",
        "    for i in nums:\n",
        "      if total + i <= mid:\n",
        "        total += i\n",
        "      else:\n",
        "        total = i\n",
        "        count += 1\n",
        "    if count > m:\n",
        "      lo = mid + 1\n",
        "    else:\n",
        "      hi = mid\n",
        "\n",
        "  return hi\n",
        "\n",
        "nums = [7 ,2 ,5 ,10 ,8 ]\n",
        "m = 2\n",
        "\n",
        "print(\"result is : \",splitArray(nums,m))\n"
      ]
    }
  ]
}